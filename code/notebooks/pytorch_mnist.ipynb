{
 "cells": [
  {
   "cell_type": "markdown",
   "metadata": {},
   "source": [
    "In this notebook we examine how the same problem is done via the [pytorch](https://pytorch.org/) libary.\n",
    "A lot is abstracted for us obviously, however the core functions such as the optimizer are still controlable.  \n",
    "\n",
    "We achive an accuracy of arround 97.9% percent on avereage which outperforms our simple network.\n",
    "\n",
    "This tutorial is based on [Sentex's pytorch video series](https://www.youtube.com/watch?v=BzcBsTou0C0&list=PLQVvvaa0QuDdeMyHEYc0gxFpYwHY2Qfdh) "
   ]
  },
  {
   "cell_type": "code",
   "execution_count": 3,
   "metadata": {},
   "outputs": [
    {
     "name": "stdout",
     "output_type": "stream",
     "text": [
      "Downloading dataset, this may take a while...\n",
      "Using downloaded and verified file: MNIST/raw/train-images-idx3-ubyte.gz\n",
      "Extracting MNIST/raw/train-images-idx3-ubyte.gz to MNIST/raw\n",
      "Using downloaded and verified file: MNIST/raw/train-labels-idx1-ubyte.gz\n",
      "Extracting MNIST/raw/train-labels-idx1-ubyte.gz to MNIST/raw\n",
      "Downloading http://yann.lecun.com/exdb/mnist/t10k-images-idx3-ubyte.gz to MNIST/raw/t10k-images-idx3-ubyte.gz\n"
     ]
    },
    {
     "name": "stderr",
     "output_type": "stream",
     "text": [
      "100.4%"
     ]
    },
    {
     "name": "stdout",
     "output_type": "stream",
     "text": [
      "Extracting MNIST/raw/t10k-images-idx3-ubyte.gz to MNIST/raw\n",
      "Downloading http://yann.lecun.com/exdb/mnist/t10k-labels-idx1-ubyte.gz to MNIST/raw/t10k-labels-idx1-ubyte.gz\n"
     ]
    },
    {
     "name": "stderr",
     "output_type": "stream",
     "text": [
      "180.4%"
     ]
    },
    {
     "name": "stdout",
     "output_type": "stream",
     "text": [
      "Extracting MNIST/raw/t10k-labels-idx1-ubyte.gz to MNIST/raw\n",
      "Processing...\n",
      "Done!\n"
     ]
    }
   ],
   "source": [
    "\"\"\"\n",
    "First we download MNIST directly from torchvision\n",
    "\"\"\"\n",
    "import torch\n",
    "\n",
    "import torch\n",
    "import torchvision\n",
    "from torchvision import transforms, datasets\n",
    "\n",
    "print(\"Downloading dataset, this may take a while until Done Message pops up...\")\n",
    "train = datasets.MNIST('', train=True, download=True,\n",
    "                       transform=transforms.Compose([\n",
    "                           transforms.ToTensor()\n",
    "                       ]))\n",
    "\n",
    "test = datasets.MNIST('', train=False, download=True,\n",
    "                       transform=transforms.Compose([\n",
    "                           transforms.ToTensor()\n",
    "                       ]))\n",
    "trainset = torch.utils.data.DataLoader(train, batch_size=10, shuffle=True)\n",
    "testset = torch.utils.data.DataLoader(test, batch_size=10, shuffle=False)"
   ]
  },
  {
   "cell_type": "code",
   "execution_count": 25,
   "metadata": {},
   "outputs": [
    {
     "name": "stdout",
     "output_type": "stream",
     "text": [
      "counts {'0': 5923, '1': 6742, '2': 5958, '3': 6131, '4': 5842, '5': 5421, '6': 5918, '7': 6265, '8': 5851, '9': 5949}\n"
     ]
    }
   ],
   "source": [
    "\"\"\"\n",
    "Lets see what the number distribution in our database is.\n",
    "Not that this is very important, if lets say we had a very unqeual distribution of \n",
    "around 60% 3s in our datasets our network will develop a bias towards recognizing as a 3\n",
    "and it will be hard to get out (think of highly activated or non-activated neurons are hard to change)\n",
    "\"\"\"\n",
    "i = 0\n",
    "counts ={\"0\":0,\"1\":0,\"2\":0,\"3\":0,\"4\":0,\"5\":0,\"6\":0,\"7\":0,\"8\":0,\"9\":0}\n",
    "for data in trainset:\n",
    "    numbers_array = data[1]\n",
    "    for number in numbers_array:\n",
    "        number = number.item()\n",
    "        counts[str(number)] += 1\n",
    "    i+=1\n",
    "print(\"counts\", counts)"
   ]
  },
  {
   "cell_type": "code",
   "execution_count": 26,
   "metadata": {},
   "outputs": [
    {
     "name": "stdout",
     "output_type": "stream",
     "text": [
      "Net(\n",
      "  (fc1): Linear(in_features=784, out_features=64, bias=True)\n",
      "  (fc2): Linear(in_features=64, out_features=64, bias=True)\n",
      "  (fc3): Linear(in_features=64, out_features=64, bias=True)\n",
      "  (fc4): Linear(in_features=64, out_features=10, bias=True)\n",
      ")\n"
     ]
    }
   ],
   "source": [
    "\"\"\"\n",
    "Now we construct the network\n",
    "torch.nn and torch.nn.functional are mostly interchangeable (object oriented vs functional)\n",
    "\"\"\"\n",
    "import torch.nn as nn\n",
    "import torch.nn.functional as F\n",
    "\n",
    "class Net(nn.Module):\n",
    "    def __init__(self):\n",
    "        ## Initialize parent class nn.Module\n",
    "        super().__init__()\n",
    "        # is the first fully conected layer, the flattend image \n",
    "        self.fc1 = nn.Linear(28*28, 64)\n",
    "        self.fc2 = nn.Linear(64, 64)\n",
    "        self.fc3 = nn.Linear(64, 64)\n",
    "        self.fc4 = nn.Linear(64, 10)\n",
    "        \n",
    "    def forward(self,x):\n",
    "        # running activation function over whole layer\n",
    "        x = F.relu(self.fc1(x))\n",
    "        x = F.relu(self.fc2(x))\n",
    "        x = F.relu(self.fc3(x))\n",
    "        x = self.fc4(x)\n",
    "        # This is just a cost function, dim 1 takes it in the correct dimension\n",
    "        # This means the outputs themselves are a confidence score, adding up to 1.\n",
    "        return F.log_softmax(x, dim=1)\n",
    "\n",
    "        return x\n",
    "        \n",
    "        \n",
    "net = Net()\n",
    "# pytorch allows pretty printing\n",
    "print(net)"
   ]
  },
  {
   "cell_type": "code",
   "execution_count": 27,
   "metadata": {},
   "outputs": [
    {
     "name": "stdout",
     "output_type": "stream",
     "text": [
      "Training 3 epochs, this may take a while...\n",
      "tensor(0.0951, grad_fn=<NllLossBackward>)\n",
      "tensor(0.1433, grad_fn=<NllLossBackward>)\n",
      "tensor(0.0119, grad_fn=<NllLossBackward>)\n"
     ]
    }
   ],
   "source": [
    "\"\"\"\n",
    "Now we train the network\n",
    "\"\"\"\n",
    "import torch.optim as optim\n",
    "\n",
    "loss_function = nn.CrossEntropyLoss()\n",
    "# Could freeze first layers and only train later layers e.g in CNNs\n",
    "optimizer = optim.Adam(net.parameters(), lr=0.001)\n",
    "epochs = 3\n",
    "print(f\"Training {epochs} epochs, this may take a while...\")\n",
    "\n",
    "for epoch in range(epochs): # 3 full passes over the data\n",
    "    for data in trainset:  # `data` is a batch of data\n",
    "        x, y = data  # X is the batch of features, y is the batch of targets.\n",
    "        net.zero_grad()  # sets gradients to 0 before loss calc. You will do this likely every step (otherwise edge case)\n",
    "        output = net(x.view(-1,28*28))  # pass in the reshaped batch (recall they are 28x28 atm)\n",
    "        loss = F.nll_loss(output, y)  # calc and grab the loss value\n",
    "        loss.backward()  # apply this loss backwards thru the network's parameters\n",
    "        optimizer.step()  # attempt to optimize weights to account for loss/gradients\n",
    "    print(loss)  # print loss. We hope loss (a measure of wrong-ness) declines! "
   ]
  },
  {
   "cell_type": "code",
   "execution_count": null,
   "metadata": {},
   "outputs": [
    {
     "name": "stdout",
     "output_type": "stream",
     "text": [
      "Testing network now\n"
     ]
    }
   ],
   "source": [
    "\"\"\"\n",
    "Now we test the accuracy of our network \n",
    "\"\"\"\n",
    "correct = 0\n",
    "total = 0\n",
    "\n",
    "print(\"Testing network now\")\n",
    "# Open savely and dont apply gradients when testing\n",
    "with torch.no_grad():\n",
    "    for data in trainset:\n",
    "        X, y = data\n",
    "        output = net(X.view(-1, 28*28))\n",
    "        for idx, i in enumerate(output):\n",
    "            #print(torch.argmax(i), y[idx])\n",
    "            if torch.argmax(i) == y[idx]:\n",
    "                correct += 1\n",
    "            total += 1\n",
    "print('Accuracy:', round(correct/total, 3))"
   ]
  }
 ],
 "metadata": {
  "kernelspec": {
   "display_name": "Python 3",
   "language": "python",
   "name": "python3"
  },
  "language_info": {
   "codemirror_mode": {
    "name": "ipython",
    "version": 3
   },
   "file_extension": ".py",
   "mimetype": "text/x-python",
   "name": "python",
   "nbconvert_exporter": "python",
   "pygments_lexer": "ipython3",
   "version": "3.7.2"
  },
  "toc": {
   "base_numbering": 1,
   "nav_menu": {},
   "number_sections": true,
   "sideBar": true,
   "skip_h1_title": false,
   "title_cell": "Table of Contents",
   "title_sidebar": "Contents",
   "toc_cell": false,
   "toc_position": {},
   "toc_section_display": true,
   "toc_window_display": false
  }
 },
 "nbformat": 4,
 "nbformat_minor": 4
}
